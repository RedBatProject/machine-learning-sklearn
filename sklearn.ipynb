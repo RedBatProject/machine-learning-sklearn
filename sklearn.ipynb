{
  "nbformat": 4,
  "nbformat_minor": 0,
  "metadata": {
    "colab": {
      "name": "sklearn.ipynb",
      "provenance": [],
      "collapsed_sections": [],
      "authorship_tag": "ABX9TyM49KLu6d/wjYuDLBfLgJMF",
      "include_colab_link": true
    },
    "kernelspec": {
      "name": "python3",
      "display_name": "Python 3"
    },
    "language_info": {
      "name": "python"
    }
  },
  "cells": [
    {
      "cell_type": "markdown",
      "metadata": {
        "id": "view-in-github",
        "colab_type": "text"
      },
      "source": [
        "<a href=\"https://colab.research.google.com/github/rizzaesh/machine-learning-sklearn/blob/main/sklearn.ipynb\" target=\"_parent\"><img src=\"https://colab.research.google.com/assets/colab-badge.svg\" alt=\"Open In Colab\"/></a>"
      ]
    },
    {
      "cell_type": "markdown",
      "source": [
        "# 1.1 Linear Models"
      ],
      "metadata": {
        "id": "aKEeg2UkR1wO"
      }
    },
    {
      "cell_type": "code",
      "execution_count": 120,
      "metadata": {
        "id": "pR0kwKCqRh-Y"
      },
      "outputs": [],
      "source": [
        "from sklearn import linear_model\n",
        "import matplotlib.pyplot as plt\n",
        "import numpy as np\n",
        "from sklearn.metrics import r2_score\n",
        "from sklearn.linear_model import ElasticNet"
      ]
    },
    {
      "cell_type": "code",
      "source": [
        "reg = linear_model.LinearRegression() #define the model\n",
        "reg.fit([[0, 0],[1, 1],[2, 2]], [0, 1, 2]) #fit the model\n",
        "reg.coef_ #this is the W where we say Y = W*X + b"
      ],
      "metadata": {
        "colab": {
          "base_uri": "https://localhost:8080/"
        },
        "id": "WMB4lFGwUdUv",
        "outputId": "421234b5-86ed-4aa6-9485-b2e22c0362aa"
      },
      "execution_count": 41,
      "outputs": [
        {
          "output_type": "execute_result",
          "data": {
            "text/plain": [
              "array([0.5, 0.5])"
            ]
          },
          "metadata": {},
          "execution_count": 41
        }
      ]
    },
    {
      "cell_type": "markdown",
      "source": [
        "The RidgeClassifier can be significantly faster than e.g. LogisticRegression with a high number of classes because it can compute the projection matrix \n",
        " only once.\n",
        "\n",
        "This classifier is sometimes referred to as a Least Squares Support Vector Machines with a linear kernel."
      ],
      "metadata": {
        "id": "tvBiKeyKa0Vd"
      }
    },
    {
      "cell_type": "code",
      "source": [
        "reg = linear_model.Ridge(alpha=0.9)\n",
        "reg.fit([[0,0],[1,1],[2,2]],[0,0.1,.2])\n",
        "\n",
        "reg.coef_,reg.intercept_ # first the W and the second is the b"
      ],
      "metadata": {
        "colab": {
          "base_uri": "https://localhost:8080/"
        },
        "id": "1wyONS9DZCGc",
        "outputId": "36220e61-7b62-47c2-87df-fa8d7d064cae"
      },
      "execution_count": 36,
      "outputs": [
        {
          "output_type": "execute_result",
          "data": {
            "text/plain": [
              "(array([0.04081633, 0.04081633]), 0.018367346938775522)"
            ]
          },
          "metadata": {},
          "execution_count": 36
        }
      ]
    },
    {
      "cell_type": "code",
      "source": [
        "from numpy.core.fromnumeric import size\n",
        "#example of Ridge\n",
        "# what is the X ?\n",
        "X = 0.1 / (np.arange(1, 11) + np.arange(0, 10)[:,np.newaxis])\n",
        "y = np.ones(10)\n",
        "#--------------------------------------\n",
        "n_alphas = 100\n",
        "alphas = np.logspace(-6, 6, n_alphas) # find number between 1**a and 1**b in log space\n",
        "coefs = []\n",
        "for a in alphas:\n",
        "    ridge = linear_model.Ridge(alpha = a, fit_intercept=False)\n",
        "    ridge.fit(X, y)\n",
        "    coefs.append(ridge.coef_)\n",
        "\n",
        "#---------------------------------------\n",
        "ax = plt.gca()\n",
        "# plt.figure(figsize = (10,10))\n",
        "############ OPs\n",
        "ax.plot(alphas, coefs)\n",
        "ax.set_xscale(\"log\")\n",
        "ax.set_xlim(ax.get_xlim()[::-1]) #reverse axis\n",
        "\n",
        "plt.xlabel(\"alpha\")\n",
        "plt.ylabel(\"coefs\\weights\")\n",
        "plt.title(\"Ridge coefficients as...\")\n",
        "plt.axis(\"tight\")\n",
        "plt.show()"
      ],
      "metadata": {
        "colab": {
          "base_uri": "https://localhost:8080/",
          "height": 299
        },
        "id": "ef6YMruFehyT",
        "outputId": "6d09aa3c-83c0-4396-a865-a96e9bed538f"
      },
      "execution_count": 80,
      "outputs": [
        {
          "output_type": "display_data",
          "data": {
            "image/png": "[encoded data removed]",
            "text/plain": [
              "<Figure size 432x288 with 1 Axes>"
            ]
          },
          "metadata": {
            "needs_background": "light"
          }
        }
      ]
    },
    {
      "cell_type": "code",
      "source": [
        "# regularization with Lasso --> ridge/n_sample\n",
        "lasso = linear_model.Lasso(alpha = .1)\n",
        "lasso.fit([[0,0],[1,1],[2,2]],[0,1,2])\n",
        "reg.predict([[0.2,1]])"
      ],
      "metadata": {
        "colab": {
          "base_uri": "https://localhost:8080/"
        },
        "id": "J62aPiIBlKXm",
        "outputId": "fdaa2219-5c34-48bc-c8a1-1ca6dee2fd8f"
      },
      "execution_count": 90,
      "outputs": [
        {
          "output_type": "execute_result",
          "data": {
            "text/plain": [
              "array([0.6])"
            ]
          },
          "metadata": {},
          "execution_count": 90
        }
      ]
    },
    {
      "cell_type": "code",
      "source": [
        "import sklearn\n",
        "#lasso example\n",
        "np.random.seed(42)\n",
        "\n",
        "n_sample, n_feature = 50, 100\n",
        "X = np.random.randn(n_sample, n_feature)\n",
        "\n",
        "idx = np.arange(n_feature)\n",
        "coef = (-1) ** idx * np.exp(-idx / 10) #we defie W\n",
        "\n",
        "coef[10:] = 0 #sparse the matrix\n",
        "\n",
        "y = np.dot(X,coef)\n",
        "# add noise\n",
        "y += 0.01 * np.random.normal(size = n_sample)\n",
        "\n",
        "n_sample = X.shape[0]\n",
        "X_train, y_train = X[: n_sample //2],y[: n_sample //2] #from 0 to a\n",
        "X_test, y_test = X[n_sample //2 :],y[n_sample //2 :] #from a+1 to -1\n",
        "\n",
        "\n",
        "# lasso\n",
        "alpha = 0.1\n",
        "lasso = linear_model.Lasso(alpha = alpha)\n",
        "y_pred_lasso = lasso.fit(X_train,y_train).predict(X_test)\n",
        "\n",
        "r2_score_lasso = r2_score(y_test, y_pred_lasso)\n",
        "print(lasso)\n",
        "print(\"r^2 on test data : %f\" % r2_score_lasso)\n",
        "\n",
        "# Elasticnet\n",
        "enet = ElasticNet(alpha=alpha, l1_ratio = 0.7)\n",
        "y_pred_enet = enet.fit(X_train,y_train).predict(X_test)\n",
        "r2_score_enet = r2_score(y_test,y_pred_enet)\n",
        "print(enet)\n",
        "print(\"r^2 on test data : %f\" % r2_score_enet)\n",
        "\n",
        "# plotting\n",
        "\n",
        "plt.figure(figsize = (17,10))\n",
        "\n",
        "m, s, _ = plt.stem(\n",
        "    np.where(enet.coef_)[0],\n",
        "    enet.coef_[enet.coef_ != 0],\n",
        "    markerfmt=\"x\",\n",
        "    label=\"Elastic net coefficients\",\n",
        "    use_line_collection=True,\n",
        ")\n",
        "plt.setp([m, s], color=\"#2ca02c\")\n",
        "\n",
        "m, s, _ = plt.stem(\n",
        "    np.where(lasso.coef_)[0],\n",
        "    enet.coef_[lasso.coef_ != 0],\n",
        "    markerfmt = '.',\n",
        "    label = 'Lasso coefficients',\n",
        "    use_line_collection = True,\n",
        ")\n",
        "plt.setp([m,s],color = \"#f1700e\")\n",
        "\n",
        "plt.stem(\n",
        "    np.where(coef)[0],\n",
        "    coef[coef != 0],\n",
        "    label = \"true coefficients\",\n",
        "    markerfmt = \"+\",\n",
        "    use_line_collection=True,\n",
        ")\n",
        "\n",
        "plt.legend(loc=\"best\")\n",
        "plt.title(\n",
        "    \"Lasso $R^2$: %.3f, Elastic Net $R^2$: %.3f\" % (r2_score_lasso,r2_score_enet)\n",
        ")\n",
        "\n",
        "plt.show()\n",
        "\n",
        "# finally\n",
        "# in this section we evaluate that the lasso and enet\n",
        "# with different amount of alpha how can find the initional\n",
        "# coef. so what we can see is that this models can hardly (50%)\n",
        "# find the real Ws and the ys."
      ],
      "metadata": {
        "colab": {
          "base_uri": "https://localhost:8080/",
          "height": 680
        },
        "id": "rYraPNqmmVcm",
        "outputId": "9caf15dd-701f-4f60-9273-843b4cfdd812"
      },
      "execution_count": 171,
      "outputs": [
        {
          "output_type": "stream",
          "name": "stdout",
          "text": [
            "Lasso(alpha=0.1)\n",
            "r^2 on test data : 0.658064\n",
            "ElasticNet(alpha=0.1, l1_ratio=0.7)\n",
            "r^2 on test data : 0.642515\n"
          ]
        },
        {
          "output_type": "display_data",
          "data": {
            "image/png": "[encoded data removed]",
            "text/plain": [
              "<Figure size 1224x720 with 1 Axes>"
            ]
          },
          "metadata": {
            "needs_background": "light"
          }
        }
      ]
    }
  ]
}